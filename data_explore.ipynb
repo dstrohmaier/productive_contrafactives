{
 "cells": [
  {
   "cell_type": "code",
   "execution_count": 1,
   "id": "5fce9ff0-32c2-47ff-9e58-100fa286f582",
   "metadata": {
    "tags": []
   },
   "outputs": [],
   "source": [
    "import numpy as np\n",
    "import pandas as pd\n",
    "from pathlib import Path"
   ]
  },
  {
   "cell_type": "code",
   "execution_count": 2,
   "id": "c311184b-1e33-4985-aa45-c8857814e09b",
   "metadata": {
    "tags": []
   },
   "outputs": [],
   "source": [
    "all_df = pd.read_csv(Path.cwd() / 'data' / 'all_data.tsv', sep='\\t')"
   ]
  },
  {
   "cell_type": "code",
   "execution_count": 3,
   "id": "43545a6b-f572-435e-ae90-f4c513f2d279",
   "metadata": {
    "tags": []
   },
   "outputs": [
    {
     "data": {
      "text/html": [
       "<div>\n",
       "<style scoped>\n",
       "    .dataframe tbody tr th:only-of-type {\n",
       "        vertical-align: middle;\n",
       "    }\n",
       "\n",
       "    .dataframe tbody tr th {\n",
       "        vertical-align: top;\n",
       "    }\n",
       "\n",
       "    .dataframe thead th {\n",
       "        text-align: right;\n",
       "    }\n",
       "</style>\n",
       "<table border=\"1\" class=\"dataframe\">\n",
       "  <thead>\n",
       "    <tr style=\"text-align: right;\">\n",
       "      <th></th>\n",
       "      <th>main_value</th>\n",
       "      <th>sub_value</th>\n",
       "      <th>mind_world_relation</th>\n",
       "      <th>mind_representation</th>\n",
       "      <th>attitude_verb_1</th>\n",
       "      <th>attitude_verb_2</th>\n",
       "      <th>compare_phrase</th>\n",
       "      <th>matching</th>\n",
       "      <th>train_phrase</th>\n",
       "    </tr>\n",
       "  </thead>\n",
       "  <tbody>\n",
       "    <tr>\n",
       "      <th>0</th>\n",
       "      <td>true</td>\n",
       "      <td>true</td>\n",
       "      <td>=</td>\n",
       "      <td>eat rory tomato basil soup lunch day-before-ye...</td>\n",
       "      <td>factive</td>\n",
       "      <td>NaN</td>\n",
       "      <td>rory eated tomato-basil soup for lunch day-bef...</td>\n",
       "      <td>True</td>\n",
       "      <td>[START] factive rory eated tomato-basil soup f...</td>\n",
       "    </tr>\n",
       "    <tr>\n",
       "      <th>1</th>\n",
       "      <td>false</td>\n",
       "      <td>true</td>\n",
       "      <td>=</td>\n",
       "      <td>eat rory tomato basil soup lunch day-before-ye...</td>\n",
       "      <td>factive</td>\n",
       "      <td>NaN</td>\n",
       "      <td>rory eated tomato-basil soup for lunch day-bef...</td>\n",
       "      <td>False</td>\n",
       "      <td>[START] factive rory buyed carrot-chili stew f...</td>\n",
       "    </tr>\n",
       "    <tr>\n",
       "      <th>2</th>\n",
       "      <td>false</td>\n",
       "      <td>false</td>\n",
       "      <td>=</td>\n",
       "      <td>eat rory tomato basil soup lunch day-before-ye...</td>\n",
       "      <td>contrafactive</td>\n",
       "      <td>NaN</td>\n",
       "      <td>rory eated tomato-basil soup for lunch day-bef...</td>\n",
       "      <td>False</td>\n",
       "      <td>[START] contrafactive lane will-order potato-p...</td>\n",
       "    </tr>\n",
       "    <tr>\n",
       "      <th>3</th>\n",
       "      <td>false</td>\n",
       "      <td>unknown</td>\n",
       "      <td>=</td>\n",
       "      <td>eat rory tomato basil soup lunch day-before-ye...</td>\n",
       "      <td>non-factive</td>\n",
       "      <td>NaN</td>\n",
       "      <td>rory eated tomato-basil soup for lunch day-bef...</td>\n",
       "      <td>False</td>\n",
       "      <td>[START] non-factive ahab will-cook tomato-coco...</td>\n",
       "    </tr>\n",
       "    <tr>\n",
       "      <th>4</th>\n",
       "      <td>pfailure</td>\n",
       "      <td>true</td>\n",
       "      <td>=</td>\n",
       "      <td>eat rory tomato basil soup lunch day-before-ye...</td>\n",
       "      <td>contrafactive</td>\n",
       "      <td>NaN</td>\n",
       "      <td>rory eated tomato-basil soup for lunch day-bef...</td>\n",
       "      <td>True</td>\n",
       "      <td>[START] contrafactive rory eated tomato-basil ...</td>\n",
       "    </tr>\n",
       "  </tbody>\n",
       "</table>\n",
       "</div>"
      ],
      "text/plain": [
       "  main_value sub_value mind_world_relation  \\\n",
       "0       true      true                   =   \n",
       "1      false      true                   =   \n",
       "2      false     false                   =   \n",
       "3      false   unknown                   =   \n",
       "4   pfailure      true                   =   \n",
       "\n",
       "                                 mind_representation attitude_verb_1  \\\n",
       "0  eat rory tomato basil soup lunch day-before-ye...         factive   \n",
       "1  eat rory tomato basil soup lunch day-before-ye...         factive   \n",
       "2  eat rory tomato basil soup lunch day-before-ye...   contrafactive   \n",
       "3  eat rory tomato basil soup lunch day-before-ye...     non-factive   \n",
       "4  eat rory tomato basil soup lunch day-before-ye...   contrafactive   \n",
       "\n",
       "  attitude_verb_2                                     compare_phrase  \\\n",
       "0             NaN  rory eated tomato-basil soup for lunch day-bef...   \n",
       "1             NaN  rory eated tomato-basil soup for lunch day-bef...   \n",
       "2             NaN  rory eated tomato-basil soup for lunch day-bef...   \n",
       "3             NaN  rory eated tomato-basil soup for lunch day-bef...   \n",
       "4             NaN  rory eated tomato-basil soup for lunch day-bef...   \n",
       "\n",
       "   matching                                       train_phrase  \n",
       "0      True  [START] factive rory eated tomato-basil soup f...  \n",
       "1     False  [START] factive rory buyed carrot-chili stew f...  \n",
       "2     False  [START] contrafactive lane will-order potato-p...  \n",
       "3     False  [START] non-factive ahab will-cook tomato-coco...  \n",
       "4      True  [START] contrafactive rory eated tomato-basil ...  "
      ]
     },
     "execution_count": 3,
     "metadata": {},
     "output_type": "execute_result"
    }
   ],
   "source": [
    "all_df.head()"
   ]
  },
  {
   "cell_type": "code",
   "execution_count": 5,
   "id": "d197e998-16f2-40f5-ba2b-5ac49d22892e",
   "metadata": {},
   "outputs": [
    {
     "data": {
      "text/plain": [
       "'eat rory tomato basil soup lunch day-before-yesterday'"
      ]
     },
     "execution_count": 5,
     "metadata": {},
     "output_type": "execute_result"
    }
   ],
   "source": [
    "all_df.iloc[0, 3]"
   ]
  },
  {
   "cell_type": "code",
   "execution_count": 6,
   "id": "bfb53497-4860-417f-b147-39695fa3d14c",
   "metadata": {},
   "outputs": [
    {
     "data": {
      "text/plain": [
       "'eat rory tomato basil soup lunch tomorrow'"
      ]
     },
     "execution_count": 6,
     "metadata": {},
     "output_type": "execute_result"
    }
   ],
   "source": [
    "all_df.iloc[100, 3]"
   ]
  },
  {
   "cell_type": "code",
   "execution_count": 8,
   "id": "fc4fe06c-b938-4a05-9acb-b638519839bb",
   "metadata": {},
   "outputs": [
    {
     "data": {
      "text/plain": [
       "'[START] factive rory eated tomato-basil soup for lunch day-before-yesterday [STOP]'"
      ]
     },
     "execution_count": 8,
     "metadata": {},
     "output_type": "execute_result"
    }
   ],
   "source": [
    "all_df.loc[0, \"train_phrase\"]"
   ]
  },
  {
   "cell_type": "code",
   "execution_count": 6,
   "id": "4beb1467-93ac-41a2-b094-2607b5c25fbf",
   "metadata": {
    "tags": []
   },
   "outputs": [
    {
     "data": {
      "text/plain": [
       "main_value\n",
       "false       486000\n",
       "pfailure    486000\n",
       "true        162000\n",
       "Name: count, dtype: int64"
      ]
     },
     "execution_count": 6,
     "metadata": {},
     "output_type": "execute_result"
    }
   ],
   "source": [
    "all_df.main_value.value_counts()"
   ]
  },
  {
   "cell_type": "code",
   "execution_count": 7,
   "id": "1d7205e2-2ba0-4efe-9e4f-33c7dae8b0ce",
   "metadata": {
    "tags": []
   },
   "outputs": [
    {
     "data": {
      "text/plain": [
       "mind_world_relation\n",
       "=     378000\n",
       "!=    378000\n",
       "?     378000\n",
       "Name: count, dtype: int64"
      ]
     },
     "execution_count": 7,
     "metadata": {},
     "output_type": "execute_result"
    }
   ],
   "source": [
    "all_df.mind_world_relation.value_counts()"
   ]
  },
  {
   "cell_type": "code",
   "execution_count": 8,
   "id": "7040818c-a288-49db-bc9d-1c9dd6655f22",
   "metadata": {
    "tags": []
   },
   "outputs": [
    {
     "data": {
      "text/plain": [
       "attitude_verb_1\n",
       "factive          540000\n",
       "contrafactive    378000\n",
       "non-factive      216000\n",
       "Name: count, dtype: int64"
      ]
     },
     "execution_count": 8,
     "metadata": {},
     "output_type": "execute_result"
    }
   ],
   "source": [
    "all_df.attitude_verb_1.value_counts()"
   ]
  },
  {
   "cell_type": "code",
   "execution_count": 9,
   "id": "e88946f9-ab7e-438d-8502-de2b9682dd70",
   "metadata": {
    "tags": []
   },
   "outputs": [
    {
     "data": {
      "text/plain": [
       "attitude_verb_2\n",
       "contrafactive    162000\n",
       "Name: count, dtype: int64"
      ]
     },
     "execution_count": 9,
     "metadata": {},
     "output_type": "execute_result"
    }
   ],
   "source": [
    "all_df.attitude_verb_2.value_counts()"
   ]
  },
  {
   "cell_type": "code",
   "execution_count": 10,
   "id": "bc61102b-986b-48e4-a509-154cf15e394d",
   "metadata": {
    "tags": []
   },
   "outputs": [
    {
     "data": {
      "text/plain": [
       "main_value\n",
       "false       486000\n",
       "pfailure    486000\n",
       "true        162000\n",
       "Name: count, dtype: int64"
      ]
     },
     "execution_count": 10,
     "metadata": {},
     "output_type": "execute_result"
    }
   ],
   "source": [
    "all_df.main_value.value_counts()"
   ]
  },
  {
   "cell_type": "code",
   "execution_count": 11,
   "id": "b37c3280-6c3a-4bf4-a3e7-c23100e1b4bb",
   "metadata": {
    "tags": []
   },
   "outputs": [
    {
     "data": {
      "text/plain": [
       "sub_value\n",
       "true       378000\n",
       "false      378000\n",
       "unknown    378000\n",
       "Name: count, dtype: int64"
      ]
     },
     "execution_count": 11,
     "metadata": {},
     "output_type": "execute_result"
    }
   ],
   "source": [
    "all_df.sub_value.value_counts()"
   ]
  },
  {
   "cell_type": "code",
   "execution_count": 12,
   "id": "4378f8d5-e3fc-4e61-9337-57aa6f0b887c",
   "metadata": {
    "tags": []
   },
   "outputs": [
    {
     "data": {
      "text/plain": [
       "attitude_verb_1\n",
       "non-factive    54000\n",
       "Name: count, dtype: int64"
      ]
     },
     "execution_count": 12,
     "metadata": {},
     "output_type": "execute_result"
    }
   ],
   "source": [
    "all_df[(all_df.main_value=='true') & (all_df.mind_world_relation=='?')].attitude_verb_1.value_counts()"
   ]
  },
  {
   "cell_type": "code",
   "execution_count": 16,
   "id": "d37a97bc-0843-40ef-91f5-5358bcb608fc",
   "metadata": {
    "tags": []
   },
   "outputs": [
    {
     "data": {
      "text/plain": [
       "PosixPath('/home/subject/Documents/CS/productive_contrafactives')"
      ]
     },
     "execution_count": 16,
     "metadata": {},
     "output_type": "execute_result"
    }
   ],
   "source": [
    "Path.cwd()"
   ]
  },
  {
   "cell_type": "code",
   "execution_count": 17,
   "id": "febf247c-9bc3-49b3-b732-e7189e061170",
   "metadata": {
    "tags": []
   },
   "outputs": [],
   "source": [
    "sampled_df = all_df.sample(30)\n",
    "sampled_df.to_csv(\"data/sample.tsv\", sep=\"\\t\", index=False)"
   ]
  },
  {
   "cell_type": "code",
   "execution_count": 18,
   "id": "b9ff9599-1b4e-4566-a24c-b04d9e17095d",
   "metadata": {},
   "outputs": [],
   "source": [
    "true_df = all_df[all_df.main_value==\"false\"]\n",
    "false_df = all_df[all_df.main_value==\"false\"].sample(162000)\n",
    "pfailure_df = all_df[all_df.main_value==\"pfailure\"].sample(162000)"
   ]
  },
  {
   "cell_type": "code",
   "execution_count": 13,
   "id": "8f69d215-1e65-4ee4-baa6-2dfa3023b0db",
   "metadata": {
    "tags": []
   },
   "outputs": [],
   "source": [
    "resampled_df = pd.concat((true_df, false_df, pfailure_df))"
   ]
  },
  {
   "cell_type": "code",
   "execution_count": 14,
   "id": "28c4cb1d-a8a4-4a4d-860d-5af8bfce6f32",
   "metadata": {
    "tags": []
   },
   "outputs": [
    {
     "data": {
      "text/plain": [
       "factive          324099\n",
       "contrafactive    269916\n",
       "non-factive      215985\n",
       "Name: attitude_verb_1, dtype: int64"
      ]
     },
     "execution_count": 14,
     "metadata": {},
     "output_type": "execute_result"
    }
   ],
   "source": [
    "resampled_df.attitude_verb_1.value_counts()"
   ]
  },
  {
   "cell_type": "code",
   "execution_count": 15,
   "id": "7d3f26b4-3e9b-4969-a612-253f5c48e7c5",
   "metadata": {
    "tags": []
   },
   "outputs": [
    {
     "data": {
      "text/plain": [
       "contrafactive    53993\n",
       "Name: attitude_verb_2, dtype: int64"
      ]
     },
     "execution_count": 15,
     "metadata": {},
     "output_type": "execute_result"
    }
   ],
   "source": [
    "resampled_df.attitude_verb_2.value_counts()"
   ]
  },
  {
   "cell_type": "code",
   "execution_count": 16,
   "id": "076b095a-6bda-4960-a04d-de4b190afadc",
   "metadata": {
    "tags": []
   },
   "outputs": [
    {
     "data": {
      "text/plain": [
       "9818.181818181818"
      ]
     },
     "execution_count": 16,
     "metadata": {},
     "output_type": "execute_result"
    }
   ],
   "source": [
    "54000/ (17/2 -3)"
   ]
  },
  {
   "cell_type": "code",
   "execution_count": 17,
   "id": "c83a340d-7316-44f0-b0a7-0aa0fe50e5bf",
   "metadata": {
    "tags": []
   },
   "outputs": [],
   "source": [
    "main_vals = (\"true\", \"false\", \"pfailure\")\n",
    "sub_vals = (\"true\", \"false\", \"unknown\")\n",
    "mw =  (\"=\", \"!=\", \"?\")"
   ]
  },
  {
   "cell_type": "code",
   "execution_count": 18,
   "id": "c6058cb1-7a58-4301-b7a8-13880e69aa5c",
   "metadata": {
    "tags": []
   },
   "outputs": [],
   "source": [
    "from itertools import product"
   ]
  },
  {
   "cell_type": "code",
   "execution_count": 19,
   "id": "de1d7232-547a-473c-abbe-a6cec98a1d93",
   "metadata": {
    "tags": []
   },
   "outputs": [
    {
     "data": {
      "text/plain": [
       "[('=', 'true', 'true'),\n",
       " ('=', 'true', 'false'),\n",
       " ('=', 'true', 'unknown'),\n",
       " ('=', 'false', 'true'),\n",
       " ('=', 'false', 'false'),\n",
       " ('=', 'false', 'unknown'),\n",
       " ('=', 'pfailure', 'true'),\n",
       " ('=', 'pfailure', 'false'),\n",
       " ('=', 'pfailure', 'unknown'),\n",
       " ('!=', 'true', 'true'),\n",
       " ('!=', 'true', 'false'),\n",
       " ('!=', 'true', 'unknown'),\n",
       " ('!=', 'false', 'true'),\n",
       " ('!=', 'false', 'false'),\n",
       " ('!=', 'false', 'unknown'),\n",
       " ('!=', 'pfailure', 'true'),\n",
       " ('!=', 'pfailure', 'false'),\n",
       " ('!=', 'pfailure', 'unknown'),\n",
       " ('?', 'true', 'true'),\n",
       " ('?', 'true', 'false'),\n",
       " ('?', 'true', 'unknown'),\n",
       " ('?', 'false', 'true'),\n",
       " ('?', 'false', 'false'),\n",
       " ('?', 'false', 'unknown'),\n",
       " ('?', 'pfailure', 'true'),\n",
       " ('?', 'pfailure', 'false'),\n",
       " ('?', 'pfailure', 'unknown')]"
      ]
     },
     "execution_count": 19,
     "metadata": {},
     "output_type": "execute_result"
    }
   ],
   "source": [
    "list(product(mw, main_vals, sub_vals))"
   ]
  },
  {
   "cell_type": "code",
   "execution_count": 96,
   "id": "850d30ca-8f5f-4a8e-b479-7451feddebbb",
   "metadata": {
    "tags": []
   },
   "outputs": [],
   "source": [
    "base_size = 54"
   ]
  },
  {
   "cell_type": "code",
   "execution_count": 97,
   "id": "1794d510-40b3-46c3-b194-7ae09d8b8fc2",
   "metadata": {
    "tags": []
   },
   "outputs": [],
   "source": [
    "A = np.array([[-2,18],[1,6]])\n",
    "b = np.array([base_size,base_size])\n",
    "true_size, other_size  = np.linalg.solve(A,b)"
   ]
  },
  {
   "cell_type": "code",
   "execution_count": 98,
   "id": "bbb60fc6-219b-47f3-beed-b93b70ae2b1f",
   "metadata": {
    "tags": []
   },
   "outputs": [],
   "source": [
    "sub_dfs = []\n",
    "for mw_r, m_val, s_val in product(mw, main_vals, sub_vals):\n",
    "    size = round(other_size*1000)\n",
    "    \n",
    "    if (mw_r==\"?\") and (m_val==\"true\") and (s_val == \"unknown\"):\n",
    "        size = base_size*1000\n",
    "    elif (m_val==\"true\"):\n",
    "        size = round(true_size*1000)\n",
    "    \n",
    "    selected_df = all_df[(all_df.mind_world_relation==mw_r)\n",
    "                         & (all_df.main_value==m_val) \n",
    "                         & (all_df.sub_value==s_val)]\n",
    "    if len(selected_df) == 0:\n",
    "        continue\n",
    "        \n",
    "    if len(selected_df) < size:\n",
    "        print(\"too small size\")\n",
    "        \n",
    "    sub_dfs.append(selected_df.sample(size))"
   ]
  },
  {
   "cell_type": "code",
   "execution_count": 99,
   "id": "f0662a0e-a1a7-4dbb-b16c-24c0e88dd576",
   "metadata": {
    "tags": []
   },
   "outputs": [],
   "source": [
    "balanced_df = pd.concat(sub_dfs)"
   ]
  },
  {
   "cell_type": "code",
   "execution_count": 100,
   "id": "b04da660-b571-4fd1-9ac2-69b9f3ffb751",
   "metadata": {
    "tags": []
   },
   "outputs": [
    {
     "data": {
      "text/plain": [
       "?     86400\n",
       "=     54000\n",
       "!=    54000\n",
       "Name: mind_world_relation, dtype: int64"
      ]
     },
     "execution_count": 100,
     "metadata": {},
     "output_type": "execute_result"
    }
   ],
   "source": [
    "balanced_df.mind_world_relation.value_counts()"
   ]
  },
  {
   "cell_type": "code",
   "execution_count": 101,
   "id": "6e094b30-d304-4fbb-a0d1-ceab052f8295",
   "metadata": {
    "tags": []
   },
   "outputs": [
    {
     "data": {
      "text/plain": [
       "true        97200\n",
       "false       48600\n",
       "pfailure    48600\n",
       "Name: main_value, dtype: int64"
      ]
     },
     "execution_count": 101,
     "metadata": {},
     "output_type": "execute_result"
    }
   ],
   "source": [
    "balanced_df.main_value.value_counts()"
   ]
  },
  {
   "cell_type": "code",
   "execution_count": 102,
   "id": "6b143082-41e5-4974-b959-d0ff769f5c17",
   "metadata": {},
   "outputs": [
    {
     "data": {
      "text/plain": [
       "true        21600\n",
       "false       16200\n",
       "pfailure    16200\n",
       "Name: main_value, dtype: int64"
      ]
     },
     "execution_count": 102,
     "metadata": {},
     "output_type": "execute_result"
    }
   ],
   "source": [
    "balanced_df[balanced_df.mind_world_relation==\"=\"].main_value.value_counts()"
   ]
  },
  {
   "cell_type": "code",
   "execution_count": 103,
   "id": "57b618f2-0e53-4133-a0ab-e2dd80e6b0fd",
   "metadata": {
    "tags": []
   },
   "outputs": [
    {
     "data": {
      "text/plain": [
       "true        21600\n",
       "false       16200\n",
       "pfailure    16200\n",
       "Name: main_value, dtype: int64"
      ]
     },
     "execution_count": 103,
     "metadata": {},
     "output_type": "execute_result"
    }
   ],
   "source": [
    "balanced_df[balanced_df.mind_world_relation==\"!=\"].main_value.value_counts()"
   ]
  },
  {
   "cell_type": "code",
   "execution_count": 104,
   "id": "56e6cdb8-cd81-4faa-b68f-7b4be0692a2a",
   "metadata": {
    "tags": []
   },
   "outputs": [
    {
     "data": {
      "text/plain": [
       "true        54000\n",
       "false       16200\n",
       "pfailure    16200\n",
       "Name: main_value, dtype: int64"
      ]
     },
     "execution_count": 104,
     "metadata": {},
     "output_type": "execute_result"
    }
   ],
   "source": [
    "balanced_df[balanced_df.mind_world_relation==\"?\"].main_value.value_counts()"
   ]
  },
  {
   "cell_type": "code",
   "execution_count": 105,
   "id": "0e86dbfc-3931-4f19-b091-e4d3bccb7ae5",
   "metadata": {
    "tags": []
   },
   "outputs": [
    {
     "data": {
      "text/plain": [
       "factive          70200\n",
       "non-factive      70200\n",
       "contrafactive    54000\n",
       "Name: attitude_verb_1, dtype: int64"
      ]
     },
     "execution_count": 105,
     "metadata": {},
     "output_type": "execute_result"
    }
   ],
   "source": [
    "balanced_df.attitude_verb_1.value_counts()"
   ]
  },
  {
   "cell_type": "code",
   "execution_count": 106,
   "id": "e81700b7-8548-4ede-8778-748c72d2f6ad",
   "metadata": {
    "tags": []
   },
   "outputs": [
    {
     "data": {
      "text/plain": [
       "contrafactive    16200\n",
       "Name: attitude_verb_2, dtype: int64"
      ]
     },
     "execution_count": 106,
     "metadata": {},
     "output_type": "execute_result"
    }
   ],
   "source": [
    "balanced_df.attitude_verb_2.value_counts()"
   ]
  },
  {
   "cell_type": "code",
   "execution_count": 107,
   "id": "79e88c3a-0a51-4ebb-a35c-494082aa7c54",
   "metadata": {},
   "outputs": [
    {
     "data": {
      "text/plain": [
       "contrafactive    21600\n",
       "Name: attitude_verb_1, dtype: int64"
      ]
     },
     "execution_count": 107,
     "metadata": {},
     "output_type": "execute_result"
    }
   ],
   "source": [
    "balanced_df[(balanced_df.mind_world_relation==\"!=\") & (balanced_df.main_value==\"true\")].attitude_verb_1.value_counts()"
   ]
  },
  {
   "cell_type": "code",
   "execution_count": 108,
   "id": "c0e7862f-adf3-450c-b830-b90e658e2dd6",
   "metadata": {
    "tags": []
   },
   "outputs": [
    {
     "data": {
      "text/plain": [
       "factive    21600\n",
       "Name: attitude_verb_1, dtype: int64"
      ]
     },
     "execution_count": 108,
     "metadata": {},
     "output_type": "execute_result"
    }
   ],
   "source": [
    "balanced_df[(balanced_df.mind_world_relation==\"=\") & (balanced_df.main_value==\"true\")].attitude_verb_1.value_counts()"
   ]
  },
  {
   "cell_type": "code",
   "execution_count": 109,
   "id": "539c261e-2a0f-4cd9-82d8-8ab7e884812a",
   "metadata": {
    "tags": []
   },
   "outputs": [
    {
     "data": {
      "text/plain": [
       "non-factive    54000\n",
       "Name: attitude_verb_1, dtype: int64"
      ]
     },
     "execution_count": 109,
     "metadata": {},
     "output_type": "execute_result"
    }
   ],
   "source": [
    "balanced_df[(balanced_df.mind_world_relation==\"?\") & (balanced_df.main_value==\"true\")].attitude_verb_1.value_counts()"
   ]
  },
  {
   "cell_type": "code",
   "execution_count": 110,
   "id": "d314f26c-17a0-436b-a298-b2036c84d1cb",
   "metadata": {
    "tags": []
   },
   "outputs": [
    {
     "data": {
      "text/plain": [
       "factive          37800\n",
       "contrafactive    10800\n",
       "non-factive       5400\n",
       "Name: attitude_verb_1, dtype: int64"
      ]
     },
     "execution_count": 110,
     "metadata": {},
     "output_type": "execute_result"
    }
   ],
   "source": [
    "balanced_df[(balanced_df.mind_world_relation==\"=\")].attitude_verb_1.value_counts()"
   ]
  },
  {
   "cell_type": "code",
   "execution_count": 111,
   "id": "60bd8f6d-9337-4fd6-9378-29aceb958256",
   "metadata": {
    "tags": []
   },
   "outputs": [
    {
     "data": {
      "text/plain": [
       "contrafactive    5400\n",
       "Name: attitude_verb_2, dtype: int64"
      ]
     },
     "execution_count": 111,
     "metadata": {},
     "output_type": "execute_result"
    }
   ],
   "source": [
    "balanced_df[(balanced_df.mind_world_relation==\"=\")].attitude_verb_2.value_counts()"
   ]
  },
  {
   "cell_type": "code",
   "execution_count": 112,
   "id": "873d50d2-e6b1-4742-ba95-7793b88338e5",
   "metadata": {
    "tags": []
   },
   "outputs": [
    {
     "data": {
      "text/plain": [
       "contrafactive    32400\n",
       "factive          16200\n",
       "non-factive       5400\n",
       "Name: attitude_verb_1, dtype: int64"
      ]
     },
     "execution_count": 112,
     "metadata": {},
     "output_type": "execute_result"
    }
   ],
   "source": [
    "balanced_df[(balanced_df.mind_world_relation==\"!=\")].attitude_verb_1.value_counts()"
   ]
  },
  {
   "cell_type": "code",
   "execution_count": 113,
   "id": "36b41b36-03fe-41fa-9bb4-16db65ec2fb6",
   "metadata": {
    "tags": []
   },
   "outputs": [
    {
     "data": {
      "text/plain": [
       "contrafactive    5400\n",
       "Name: attitude_verb_2, dtype: int64"
      ]
     },
     "execution_count": 113,
     "metadata": {},
     "output_type": "execute_result"
    }
   ],
   "source": [
    "balanced_df[(balanced_df.mind_world_relation==\"!=\")].attitude_verb_2.value_counts()"
   ]
  },
  {
   "cell_type": "code",
   "execution_count": 114,
   "id": "1e9c0dfc-227d-4978-aa51-8396642efbee",
   "metadata": {
    "tags": []
   },
   "outputs": [
    {
     "data": {
      "text/plain": [
       "non-factive      59400\n",
       "factive          16200\n",
       "contrafactive    10800\n",
       "Name: attitude_verb_1, dtype: int64"
      ]
     },
     "execution_count": 114,
     "metadata": {},
     "output_type": "execute_result"
    }
   ],
   "source": [
    "balanced_df[(balanced_df.mind_world_relation==\"?\")].attitude_verb_1.value_counts()"
   ]
  },
  {
   "cell_type": "code",
   "execution_count": 115,
   "id": "d7f5ab89-f235-418e-b10f-df33b0e50985",
   "metadata": {
    "tags": []
   },
   "outputs": [
    {
     "data": {
      "text/plain": [
       "contrafactive    5400\n",
       "Name: attitude_verb_2, dtype: int64"
      ]
     },
     "execution_count": 115,
     "metadata": {},
     "output_type": "execute_result"
    }
   ],
   "source": [
    "balanced_df[(balanced_df.mind_world_relation==\"?\")].attitude_verb_2.value_counts()"
   ]
  },
  {
   "cell_type": "code",
   "execution_count": 116,
   "id": "865b789c-464c-4110-8d02-bad0c8fd7a50",
   "metadata": {
    "tags": []
   },
   "outputs": [],
   "source": [
    "loaded_balanced_df = pd.read_csv(Path('generation') / 'data' / 'balanced.tsv', sep='\\t')"
   ]
  },
  {
   "cell_type": "code",
   "execution_count": 117,
   "id": "d70854a1-39ad-4b78-8b35-b61dffc1e094",
   "metadata": {
    "tags": []
   },
   "outputs": [
    {
     "data": {
      "text/plain": [
       "?     86400\n",
       "=     54000\n",
       "!=    54000\n",
       "Name: mind_world_relation, dtype: int64"
      ]
     },
     "execution_count": 117,
     "metadata": {},
     "output_type": "execute_result"
    }
   ],
   "source": [
    "loaded_balanced_df.mind_world_relation.value_counts()"
   ]
  },
  {
   "cell_type": "code",
   "execution_count": null,
   "id": "a94cc7cd-6207-47c3-a696-0b318ee29d55",
   "metadata": {},
   "outputs": [],
   "source": []
  },
  {
   "cell_type": "code",
   "execution_count": null,
   "id": "bd1ad2b6-82a6-42fb-b050-e9b4f71c2a0d",
   "metadata": {},
   "outputs": [],
   "source": []
  },
  {
   "cell_type": "code",
   "execution_count": null,
   "id": "2d3db185-8ab1-4a60-82a7-7838fcfdd72b",
   "metadata": {},
   "outputs": [],
   "source": []
  }
 ],
 "metadata": {
  "kernelspec": {
   "display_name": "Python 3 (ipykernel)",
   "language": "python",
   "name": "python3"
  },
  "language_info": {
   "codemirror_mode": {
    "name": "ipython",
    "version": 3
   },
   "file_extension": ".py",
   "mimetype": "text/x-python",
   "name": "python",
   "nbconvert_exporter": "python",
   "pygments_lexer": "ipython3",
   "version": "3.10.12"
  }
 },
 "nbformat": 4,
 "nbformat_minor": 5
}
